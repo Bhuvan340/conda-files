{
  "nbformat": 4,
  "nbformat_minor": 0,
  "metadata": {
    "colab": {
      "provenance": [],
      "authorship_tag": "ABX9TyNijK5AIHJtHILdx/uiOpZb",
      "include_colab_link": true
    },
    "kernelspec": {
      "name": "python3",
      "display_name": "Python 3"
    },
    "language_info": {
      "name": "python"
    }
  },
  "cells": [
    {
      "cell_type": "markdown",
      "metadata": {
        "id": "view-in-github",
        "colab_type": "text"
      },
      "source": [
        "<a href=\"https://colab.research.google.com/github/Bhuvan340/conda-files/blob/main/L1_L2_regularization.ipynb\" target=\"_parent\"><img src=\"https://colab.research.google.com/assets/colab-badge.svg\" alt=\"Open In Colab\"/></a>"
      ]
    },
    {
      "cell_type": "code",
      "execution_count": null,
      "metadata": {
        "id": "oLN5ZyOrZtT-"
      },
      "outputs": [],
      "source": [
        "import numpy as np\n",
        "import matplotlib.pyplot as plt\n",
        "from sklearn.linear_model import Lasso, Ridge\n",
        "from sklearn.metrics import mean_squared_error\n",
        "# Generate synthetic data\n",
        "np.random.seed(0)\n",
        "X = 2 * np.random.rand(100, 1)\n",
        "y = 4 + 3 * X + np.random.randn(100, 1)\n",
        "# Create models for L1 and L2 regularization\n",
        "lasso_model = Lasso(alpha=1.0) # L1 regularization (alpha parameter\n",
        "#controls the strength)\n",
        "ridge_model = Ridge(alpha=1.0) # L2 regularization (alpha parameter\n",
        "#controls the strength)\n",
        "# Fit the models to the data\n",
        "lasso_model.fit(X, y)\n",
        "ridge_model.fit(X, y)\n",
        "# Print the coefficients and intercepts\n",
        "print(\"Lasso Model Coefficients:\", lasso_model.coef_)\n",
        "print(\"Lasso Model Intercept:\", lasso_model.intercept_)\n",
        "print(\"Ridge Model Coefficients:\", ridge_model.coef_)\n",
        "print(\"Ridge Model Intercept:\", ridge_model.intercept_)\n",
        "# Plot the data and regression lines for Lasso and Ridge\n",
        "plt.scatter(X, y, label='Data')\n",
        "plt.plot(X, lasso_model.predict(X), color='red', label='Lasso Regression Line')\n",
        "plt.plot(X, ridge_model.predict(X), color='green', label='Ridge Regression Line')\n",
        "plt.xlabel('X')\n",
        "plt.ylabel('y')\n",
        "plt.title('L1 and L2 Regularization for Linear Regression')\n",
        "plt.legend()\n",
        "plt.show()\n",
        "# Calculate mean squared error for both models\n",
        "lasso_mse = mean_squared_error(y, lasso_model.predict(X))\n",
        "ridge_mse = mean_squared_error(y, ridge_model.predict(X))\n",
        "print(\"Lasso Mean Squared Error:\", lasso_mse)\n",
        "print(\"Ridge Mean Squared Error:\", ridge_mse)\n",
        "#Lasso Model Coefficients: [0.]\n",
        "#Lasso Model Intercept: [7.02909738]\n",
        "#Ridge Model Coefficients: [[2.88178965]]\n",
        "#Ridge Model Intercept: [4.30411259]\n"
      ]
    }
  ]
}